{
  "nbformat": 4,
  "nbformat_minor": 0,
  "metadata": {
    "colab": {
      "provenance": [],
      "collapsed_sections": [],
      "include_colab_link": true
    },
    "kernelspec": {
      "name": "python3",
      "display_name": "Python 3"
    },
    "language_info": {
      "name": "python"
    }
  },
  "cells": [
    {
      "cell_type": "markdown",
      "metadata": {
        "id": "view-in-github",
        "colab_type": "text"
      },
      "source": [
        "<a href=\"https://colab.research.google.com/github/MatiasBlanco0/SNN/blob/main/Copia_de_SNN.ipynb\" target=\"_parent\"><img src=\"https://colab.research.google.com/assets/colab-badge.svg\" alt=\"Open In Colab\"/></a>"
      ]
    },
    {
      "cell_type": "markdown",
      "source": [
        "# Simple Neural Network\n",
        "\n",
        "Simple Red Neuronal (Perceptrón) para la materia Tecnologías Exponenciales - TIC\n",
        "\n",
        "Inspirado en https://github.com/jonasbostoen/simple-neural-network"
      ],
      "metadata": {
        "id": "E5MvfaYmnfke"
      }
    },
    {
      "cell_type": "markdown",
      "source": [
        "### Librerias"
      ],
      "metadata": {
        "id": "WYr3ptD1nklQ"
      }
    },
    {
      "cell_type": "code",
      "execution_count": null,
      "metadata": {
        "id": "ZLJi7O0hCEn3"
      },
      "outputs": [],
      "source": [
        "import numpy as np\n",
        "import pandas as pd\n",
        "import matplotlib.pyplot as plt\n",
        "from IPython.display import HTML, display\n",
        "import tabulate\n",
        "import networkx as nx\n",
        "from random import random as rand\n",
        "import itertools"
      ]
    },
    {
      "cell_type": "code",
      "source": [
        "np.random.seed(1)"
      ],
      "metadata": {
        "id": "lUUgSMF_CM5m"
      },
      "execution_count": null,
      "outputs": []
    },
    {
      "cell_type": "markdown",
      "source": [
        "### Funciones"
      ],
      "metadata": {
        "id": "b8-iBQcXnmQz"
      }
    },
    {
      "cell_type": "code",
      "source": [
        "def sigmoid(x):\n",
        "    return 1 / ( 1 + np.exp(-x) )\n",
        "\n",
        "# sigmoid = lambda x : 1 / ( 1 + np.exp(-x) )\n",
        "\n",
        "def sigmoid_derivative(x):\n",
        "    return x * (1 - x)\n",
        "\n",
        "# sigmoid_derivative = lambda x : x * (1 - x)"
      ],
      "metadata": {
        "id": "d-ylyCurCJpi"
      },
      "execution_count": null,
      "outputs": []
    },
    {
      "cell_type": "markdown",
      "source": [
        "\n",
        "Sigmoid Function\n",
        "$$\\operatorname{f}(x)=\\frac{1}{1+e^{(-x)}}$$\n",
        "\n",
        "Sigmoid Derivative Function\n",
        "$$\\operatorname{f'}(x)=x \\times (1-x)$$"
      ],
      "metadata": {
        "id": "R5ycxQ3TFT8S"
      }
    },
    {
      "cell_type": "markdown",
      "source": [
        "#### Visualización Función Sigmoide"
      ],
      "metadata": {
        "id": "Q0ikk-Oyno28"
      }
    },
    {
      "cell_type": "code",
      "source": [
        "x = np.linspace(-5,5,100)\n",
        "y = sigmoid(x)\n",
        "fig = plt.figure()\n",
        "ax = fig.add_subplot(1, 1, 1)\n",
        "\n",
        "# Move left y-axis and bottim x-axis to centre, passing through (0,0)\n",
        "ax.spines['left'].set_position('center')\n",
        "\n",
        "# Eliminate upper and right axes\n",
        "ax.spines['right'].set_color('none')\n",
        "ax.spines['top'].set_color('none')\n",
        "\n",
        "plt.plot(x, y)\n",
        "plt.locator_params(axis='y', nbins=3)\n",
        "plt.yticks(fontsize=18)\n",
        "plt.xticks(fontsize=18)\n",
        "plt.grid()"
      ],
      "metadata": {
        "colab": {
          "base_uri": "https://localhost:8080/",
          "height": 273
        },
        "id": "_T8o08_KGUpQ",
        "outputId": "dbb3c515-0ee4-4786-8854-bf8ebef6b524"
      },
      "execution_count": null,
      "outputs": [
        {
          "output_type": "display_data",
          "data": {
            "text/plain": [
              "<Figure size 432x288 with 1 Axes>"
            ],
            "image/png": "[encoded data removed]"
          },
          "metadata": {
            "needs_background": "light"
          }
        }
      ]
    },
    {
      "cell_type": "markdown",
      "source": [
        "## Setup"
      ],
      "metadata": {
        "id": "Lt58rBeCoBqX"
      }
    },
    {
      "cell_type": "markdown",
      "source": [
        "### Values"
      ],
      "metadata": {
        "id": "wlwVE47Lntcq"
      }
    },
    {
      "cell_type": "markdown",
      "source": [
        "#### Training Values"
      ],
      "metadata": {
        "id": "xvUJGV0Huj1F"
      }
    },
    {
      "cell_type": "code",
      "source": [
        "training_inputs = np.array([\n",
        "    [0,0,1,1],\n",
        "    [1,1,1,1],\n",
        "    [1,0,1,1],\n",
        "    [0,1,1,1]\n",
        "])\n",
        "\n",
        "training_outputs = np.array([[0,1,1,0]]).T\n",
        "\n",
        "display(training_inputs)\n",
        "display(training_outputs)"
      ],
      "metadata": {
        "colab": {
          "base_uri": "https://localhost:8080/",
          "height": 156
        },
        "id": "IJe-z6WUCH98",
        "outputId": "1ee0df88-4100-4375-f062-a338944bf46b"
      },
      "execution_count": null,
      "outputs": [
        {
          "output_type": "display_data",
          "data": {
            "text/plain": [
              "array([[0, 0, 1, 1],\n",
              "       [1, 1, 1, 1],\n",
              "       [1, 0, 1, 1],\n",
              "       [0, 1, 1, 1]])"
            ]
          },
          "metadata": {}
        },
        {
          "output_type": "display_data",
          "data": {
            "text/plain": [
              "array([[0],\n",
              "       [1],\n",
              "       [1],\n",
              "       [0]])"
            ]
          },
          "metadata": {}
        }
      ]
    },
    {
      "cell_type": "code",
      "source": [
        "training_values = np.concatenate((training_inputs.T, training_outputs.T)).T\n",
        "table = lambda arr : display(HTML(tabulate.tabulate(arr, tablefmt='html')))\n",
        "table(training_values)"
      ],
      "metadata": {
        "colab": {
          "base_uri": "https://localhost:8080/",
          "height": 104
        },
        "id": "PCajxnvAdyhl",
        "outputId": "55087ca2-bd0b-4fec-ae34-30999289cca2"
      },
      "execution_count": null,
      "outputs": [
        {
          "output_type": "display_data",
          "data": {
            "text/plain": [
              "<IPython.core.display.HTML object>"
            ],
            "text/html": [
              "<table>\n",
              "<tbody>\n",
              "<tr><td style=\"text-align: right;\">0</td><td style=\"text-align: right;\">0</td><td style=\"text-align: right;\">1</td><td style=\"text-align: right;\">1</td><td style=\"text-align: right;\">0</td></tr>\n",
              "<tr><td style=\"text-align: right;\">1</td><td style=\"text-align: right;\">1</td><td style=\"text-align: right;\">1</td><td style=\"text-align: right;\">1</td><td style=\"text-align: right;\">1</td></tr>\n",
              "<tr><td style=\"text-align: right;\">1</td><td style=\"text-align: right;\">0</td><td style=\"text-align: right;\">1</td><td style=\"text-align: right;\">1</td><td style=\"text-align: right;\">1</td></tr>\n",
              "<tr><td style=\"text-align: right;\">0</td><td style=\"text-align: right;\">1</td><td style=\"text-align: right;\">1</td><td style=\"text-align: right;\">1</td><td style=\"text-align: right;\">0</td></tr>\n",
              "</tbody>\n",
              "</table>"
            ]
          },
          "metadata": {}
        }
      ]
    },
    {
      "cell_type": "markdown",
      "source": [
        "#### Synaptic weights "
      ],
      "metadata": {
        "id": "WM0UGBrAnxKs"
      }
    },
    {
      "cell_type": "code",
      "source": [
        "n = training_inputs.shape[1]\n",
        "synaptic_weights = 2 + np.random.random((n, 1)) - 1\n",
        "\n",
        "synaptic_weights"
      ],
      "metadata": {
        "colab": {
          "base_uri": "https://localhost:8080/"
        },
        "id": "2WjmwkX7E6t1",
        "outputId": "a6f8032d-b382-4df6-863e-65bfd674d393"
      },
      "execution_count": null,
      "outputs": [
        {
          "output_type": "execute_result",
          "data": {
            "text/plain": [
              "array([[1.30233257],\n",
              "       [1.14675589],\n",
              "       [1.09233859],\n",
              "       [1.18626021]])"
            ]
          },
          "metadata": {},
          "execution_count": 16
        }
      ]
    },
    {
      "cell_type": "markdown",
      "source": [
        "## Training"
      ],
      "metadata": {
        "id": "SvRwhjxMn-lw"
      }
    },
    {
      "cell_type": "markdown",
      "source": [
        "Para obtener un resultado a partir de los inputs y los synaptic weights se realiza la siguiente función:\n",
        "\n",
        "$$\\sum_{i=0}^{n}{x_iw_i}$$\n",
        "\n",
        "Y se le aplica la función sigmoide para normalizar al rango 0, 1\n",
        "\n",
        "Por ejemplo, si nuestros inputs $x_i$ son `[1, 1, 1]` y nuestros pesos sinapticos $w_i$ son `[[11.30926442], [-0.20511667], [-5.4500033]]`\n",
        "\n",
        "Nos resulta la cuenta\n",
        "$$[1 \\times 11.30926442] + [1 \\times (-0.20511667)] + [1 \\times (-5.4500033)] = 5.6541444499999995$$\n",
        "\n",
        "Con la función sigmoide es facil ver como $$\\operatorname{sigmoid}(5.65) \\approx 1$$"
      ],
      "metadata": {
        "id": "vyFklb0-ptf3"
      }
    },
    {
      "cell_type": "code",
      "source": [
        "eval_NN = lambda x, w: sigmoid(np.dot(x, w))"
      ],
      "metadata": {
        "id": "cVzwPQlYstOz"
      },
      "execution_count": null,
      "outputs": []
    },
    {
      "cell_type": "code",
      "source": [
        "# 50000 epochs\n",
        "for iteration in range(50000):\n",
        "\n",
        "    # Arranca con los valores de training\n",
        "    input_layer = training_inputs\n",
        "\n",
        "    # Genera un output haciendo la suma de los valores de input multiplicados por su peso sinaptico, y aplicandole la función sigmoide para normalizar a -1, 1\n",
        "    outputs = eval_NN(input_layer, synaptic_weights)\n",
        "\n",
        "    # Calculo el error\n",
        "    error = training_outputs - outputs\n",
        "\n",
        "    # Ajusto los pesos en funcion al error y al resultado obtenido\n",
        "    adjustments = error * sigmoid_derivative(outputs)\n",
        "    synaptic_weights += np.dot(input_layer.T, adjustments)"
      ],
      "metadata": {
        "id": "GE6UM40eE8kR"
      },
      "execution_count": null,
      "outputs": []
    },
    {
      "cell_type": "code",
      "source": [
        "print('Synaptic weights after training')\n",
        "print(synaptic_weights)\n",
        "\n",
        "print('Outputs after training: ')\n",
        "print(outputs)"
      ],
      "metadata": {
        "colab": {
          "base_uri": "https://localhost:8080/"
        },
        "id": "8_LfZgY9FBpO",
        "outputId": "4a154209-cc00-48ce-a7b4-241705dbda97"
      },
      "execution_count": null,
      "outputs": [
        {
          "output_type": "stream",
          "name": "stdout",
          "text": [
            "Synaptic weights after training\n",
            "[[11.38722452]\n",
            " [-0.1127054 ]\n",
            " [-2.83753389]\n",
            " [-2.74361228]]\n",
            "Outputs after training: \n",
            "[[0.00375414]\n",
            " [0.99664306]\n",
            " [0.99699979]\n",
            " [0.00335534]]\n"
          ]
        }
      ]
    },
    {
      "cell_type": "markdown",
      "source": [
        "## Eval"
      ],
      "metadata": {
        "id": "1lBXXHfFoD67"
      }
    },
    {
      "cell_type": "code",
      "source": [
        "table(training_values)"
      ],
      "metadata": {
        "colab": {
          "base_uri": "https://localhost:8080/",
          "height": 104
        },
        "id": "zOynLtbAeKjy",
        "outputId": "ba1cb562-bb8a-43e6-ce9d-65f625f9da6a"
      },
      "execution_count": null,
      "outputs": [
        {
          "output_type": "display_data",
          "data": {
            "text/plain": [
              "<IPython.core.display.HTML object>"
            ],
            "text/html": [
              "<table>\n",
              "<tbody>\n",
              "<tr><td style=\"text-align: right;\">0</td><td style=\"text-align: right;\">0</td><td style=\"text-align: right;\">1</td><td style=\"text-align: right;\">0</td></tr>\n",
              "<tr><td style=\"text-align: right;\">1</td><td style=\"text-align: right;\">1</td><td style=\"text-align: right;\">1</td><td style=\"text-align: right;\">1</td></tr>\n",
              "<tr><td style=\"text-align: right;\">1</td><td style=\"text-align: right;\">0</td><td style=\"text-align: right;\">1</td><td style=\"text-align: right;\">1</td></tr>\n",
              "<tr><td style=\"text-align: right;\">0</td><td style=\"text-align: right;\">1</td><td style=\"text-align: right;\">1</td><td style=\"text-align: right;\">0</td></tr>\n",
              "</tbody>\n",
              "</table>"
            ]
          },
          "metadata": {}
        }
      ]
    },
    {
      "cell_type": "code",
      "source": [
        "large = lambda x : display(HTML('<p style=\"font-size: 50px; color: #66D148\">'+str(x)+'</p>'))"
      ],
      "metadata": {
        "id": "1V_H4tV6vzvd"
      },
      "execution_count": null,
      "outputs": []
    },
    {
      "cell_type": "code",
      "source": [
        "a = 1 #@param {type:\"integer\"}\n",
        "c = 1 #@param {type:\"integer\"}\n",
        "b = 1 #@param {type:\"integer\"}\n",
        "\n",
        "input_layer = np.array([1,1,1,1])\n",
        "res = sigmoid(np.dot(input_layer, synaptic_weights))[0]\n",
        "display(res)\n",
        "\n",
        "thresh = 0.01\n",
        "out = 0 if res < thresh else 1\n",
        "\n",
        "large(out)"
      ],
      "metadata": {
        "colab": {
          "base_uri": "https://localhost:8080/",
          "height": 108
        },
        "id": "wlN9Pkcwbb-J",
        "outputId": "3f409468-333c-4a60-cfaf-317fa712f076"
      },
      "execution_count": null,
      "outputs": [
        {
          "output_type": "display_data",
          "data": {
            "text/plain": [
              "0.9966430937903947"
            ]
          },
          "metadata": {}
        },
        {
          "output_type": "display_data",
          "data": {
            "text/plain": [
              "<IPython.core.display.HTML object>"
            ],
            "text/html": [
              "<p style=\"font-size: 50px; color: #66D148\">1</p>"
            ]
          },
          "metadata": {}
        }
      ]
    },
    {
      "cell_type": "markdown",
      "source": [
        "### Graph"
      ],
      "metadata": {
        "id": "tUfPpGoCoGaA"
      }
    },
    {
      "cell_type": "code",
      "source": [
        "G = nx.DiGraph()\n",
        "layers = [[0, 1, 2,3], [4]]\n",
        "\n",
        "rels = list(itertools.product(*layers))\n",
        "#rels.append((3, 4))\n",
        "flatten = lambda l: [x for i in l for x in i]\n",
        "\n",
        "labels = {i: v for i, v in enumerate(input_layer)}\n",
        "labels[3] = round(res, 3)\n",
        "#labels[4] = 0 if res < thresh else 1\n",
        "\n",
        "pos = {}\n",
        "m = max([len(l) for l in layers])\n",
        "for i, l in enumerate(layers):\n",
        "  for j, v in enumerate(l):\n",
        "    pos[v] = (i, len(l) - j)\n",
        "\n",
        "pos[3] = (pos[3][0], pos[1][1])\n",
        "#pos[4] = (pos[3][0] + 1, pos[1][1])\n",
        "\n",
        "weights_labels = {(ra, rb): \"{:0.3f}\".format(synaptic_weights[i][0]) for i, (ra, rb) in enumerate(rels)}\n",
        "G.add_edges_from(rels)\n",
        "\n",
        "options = {\n",
        "    \"font_size\": 16,\n",
        "    \"node_size\": 3000,\n",
        "    \"node_color\": [(1, 1, 1, 1) for _ in range(len(labels))],\n",
        "    \"edgecolors\": \"black\",\n",
        "    \"linewidths\": 3,\n",
        "    \"width\": 3,\n",
        "    \"labels\": labels,\n",
        "    \"connectionstyle\": \"arc3, rad=0\",\n",
        "}\n",
        "\n",
        "nx.draw_networkx(G, pos, **options)\n",
        "\n",
        "nx.draw_networkx_edge_labels(\n",
        "    G, pos,\n",
        "    edge_labels=weights_labels,\n",
        "    font_color='black',\n",
        "    font_size=16, \n",
        "    font_weight='bold'\n",
        ")\n",
        "\n",
        "plt.axis('off')\n",
        "ax = plt.gca()\n",
        "ax.margins(0.20)\n",
        "plt.show()"
      ],
      "metadata": {
        "colab": {
          "base_uri": "https://localhost:8080/",
          "height": 248
        },
        "id": "foiUQNleiahq",
        "outputId": "41f799ab-f58b-4b1e-e544-052a7edc50a9"
      },
      "execution_count": null,
      "outputs": [
        {
          "output_type": "display_data",
          "data": {
            "text/plain": [
              "<Figure size 432x288 with 1 Axes>"
            ],
            "image/png": "[encoded data removed]"
          },
          "metadata": {}
        }
      ]
    }
  ]
}